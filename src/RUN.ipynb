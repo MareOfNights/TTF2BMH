{
 "cells": [
  {
   "cell_type": "code",
   "execution_count": null,
   "metadata": {
    "collapsed": true
   },
   "outputs": [],
   "source": [
    "# Bitmap Font to C bitmap header file converter for dot based displays\n",
    "# Copyright(c) 2019 JD Morise, jdmorise@yahoo.com\n",
    "\n",
    "#------------------------------------------------------------------------\n",
    "#    This program is free software: you can redistribute it and/or modify\n",
    "#    it under the terms of the GNU General Public License as published by\n",
    "#    the Free Software Foundation, either version 3 of the License, or\n",
    "#    (at your option) any later version.\n",
    "#\n",
    "#    This program is distributed in the hope that it will be useful,\n",
    "#    but WITHOUT ANY WARRANTY; without even the implied warranty of\n",
    "#    MERCHANTABILITY or FITNESS FOR A PARTICULAR PURPOSE.  See the\n",
    "#    GNU General Public License for more details.#\n",
    "#\n",
    "#    You should have received a copy of the GNU General Public License\n",
    "#    along with this program.  If not, see <https://www.gnu.org/licenses/>.\n",
    "#------------------------------------------------------------------------\n"
   ]
  },
  {
   "cell_type": "code",
   "execution_count": 11,
   "metadata": {
    "collapsed": false
   },
   "outputs": [
    {
     "name": "stdout",
     "output_type": "stream",
     "text": [
      "Arial_char_24.h written\n",
      "Arial_char_32.h written\n",
      "Arial_char_40.h written\n",
      "Arial_char_48.h written\n",
      "Arial_char_56.h written\n",
      "Arial_char_64.h written\n",
      "Courier New_char_24.h written\n",
      "Courier New_char_32.h written\n",
      "Courier New_char_40.h written\n",
      "Courier New_char_48.h written\n",
      "Courier New_char_56.h written\n",
      "Courier New_char_64.h written\n",
      "Times New Roman_char_24.h written\n",
      "Times New Roman_char_32.h written\n",
      "Times New Roman_char_40.h written\n",
      "Times New Roman_char_48.h written\n",
      "Times New Roman_char_56.h written\n",
      "Times New Roman_char_64.h written\n",
      "Calibri_char_24.h written\n",
      "Calibri_char_32.h written\n",
      "Calibri_char_40.h written\n",
      "Calibri_char_48.h written\n",
      "Calibri_char_56.h written\n",
      "Calibri_char_64.h written\n",
      "InkFree_char_24.h written\n",
      "InkFree_char_32.h written\n",
      "InkFree_char_40.h written\n",
      "InkFree_char_48.h written\n",
      "InkFree_char_56.h written\n",
      "InkFree_char_64.h written\n"
     ]
    }
   ],
   "source": [
    "%run ./ttf2bmh_ascii_font.py"
   ]
  },
  {
   "cell_type": "code",
   "execution_count": null,
   "metadata": {
    "collapsed": false
   },
   "outputs": [],
   "source": [
    "%run ./ttf2bmh_ascii_file.py"
   ]
  },
  {
   "cell_type": "code",
   "execution_count": null,
   "metadata": {
    "collapsed": false
   },
   "outputs": [],
   "source": [
    "%run ./ttf2bmh_digits_font.py"
   ]
  },
  {
   "cell_type": "code",
   "execution_count": null,
   "metadata": {
    "collapsed": false
   },
   "outputs": [],
   "source": [
    "%run ./ttf2bmh_digits_file.py"
   ]
  },
  {
   "cell_type": "code",
   "execution_count": null,
   "metadata": {
    "collapsed": true
   },
   "outputs": [],
   "source": []
  }
 ],
 "metadata": {
  "kernelspec": {
   "display_name": "Python 3",
   "language": "python",
   "name": "python3"
  },
  "language_info": {
   "codemirror_mode": {
    "name": "ipython",
    "version": 3
   },
   "file_extension": ".py",
   "mimetype": "text/x-python",
   "name": "python",
   "nbconvert_exporter": "python",
   "pygments_lexer": "ipython3",
   "version": "3.5.1"
  }
 },
 "nbformat": 4,
 "nbformat_minor": 0
}
