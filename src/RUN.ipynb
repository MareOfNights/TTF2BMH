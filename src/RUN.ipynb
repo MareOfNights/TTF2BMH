{
 "cells": [
  {
   "cell_type": "code",
   "execution_count": null,
   "metadata": {
    "collapsed": true
   },
   "outputs": [],
   "source": [
    "# Bitmap Font to C bitmap header file converter for dot based displays\n",
    "# Copyright(c) 2019 JD Morise, jdmorise@yahoo.com\n",
    "\n",
    "#------------------------------------------------------------------------\n",
    "#    This program is free software: you can redistribute it and/or modify\n",
    "#    it under the terms of the GNU General Public License as published by\n",
    "#    the Free Software Foundation, either version 3 of the License, or\n",
    "#    (at your option) any later version.\n",
    "#\n",
    "#    This program is distributed in the hope that it will be useful,\n",
    "#    but WITHOUT ANY WARRANTY; without even the implied warranty of\n",
    "#    MERCHANTABILITY or FITNESS FOR A PARTICULAR PURPOSE.  See the\n",
    "#    GNU General Public License for more details.#\n",
    "#\n",
    "#    You should have received a copy of the GNU General Public License\n",
    "#    along with this program.  If not, see <https://www.gnu.org/licenses/>.\n",
    "#------------------------------------------------------------------------\n"
   ]
  },
  {
   "cell_type": "code",
   "execution_count": 15,
   "metadata": {
    "collapsed": false
   },
   "outputs": [
    {
     "name": "stdout",
     "output_type": "stream",
     "text": [
      "Arial_digits_24.h written\n",
      "Arial_digits_32.h written\n",
      "Arial_digits_40.h written\n",
      "Arial_digits_48.h written\n",
      "Arial_digits_56.h written\n",
      "Arial_digits_64.h written\n",
      "Courier New_digits_24.h written\n",
      "Courier New_digits_32.h written\n",
      "Courier New_digits_40.h written\n",
      "Courier New_digits_48.h written\n",
      "Courier New_digits_56.h written\n",
      "Courier New_digits_64.h written\n",
      "Times New Roman_digits_24.h written\n",
      "Times New Roman_digits_32.h written\n",
      "Times New Roman_digits_40.h written\n",
      "Times New Roman_digits_48.h written\n",
      "Times New Roman_digits_56.h written\n",
      "Times New Roman_digits_64.h written\n",
      "Calibri_digits_24.h written\n",
      "Calibri_digits_32.h written\n",
      "Calibri_digits_40.h written\n",
      "Calibri_digits_48.h written\n",
      "Calibri_digits_56.h written\n",
      "Calibri_digits_64.h written\n"
     ]
    }
   ],
   "source": [
    "%run ./ttf2bmh_digits_font.py"
   ]
  },
  {
   "cell_type": "code",
   "execution_count": 6,
   "metadata": {
    "collapsed": false
   },
   "outputs": [
    {
     "ename": "FileNotFoundError",
     "evalue": "[Errno 2] No such file or directory: '.\\\\bmh_fonts\\\\fonts-master\\\\apache\\\\ttf2bmh.log'",
     "output_type": "error",
     "traceback": [
      "\u001b[1;31m---------------------------------------------------------------------------\u001b[0m",
      "\u001b[1;31mFileNotFoundError\u001b[0m                         Traceback (most recent call last)",
      "\u001b[1;32mC:\\Users\\laemmle\\Documents\\Microwave\\Bastelei\\DCF77\\TTF2BMH\\src\\ttf2bmh_digits_file.py\u001b[0m in \u001b[0;36m<module>\u001b[1;34m()\u001b[0m\n\u001b[0;32m    200\u001b[0m     \u001b[0mlog_file\u001b[0m\u001b[1;33m.\u001b[0m\u001b[0mclose\u001b[0m\u001b[1;33m(\u001b[0m\u001b[1;33m)\u001b[0m\u001b[1;33m\u001b[0m\u001b[0m\n\u001b[0;32m    201\u001b[0m \u001b[1;32mif\u001b[0m \u001b[1;33m(\u001b[0m\u001b[0m__name__\u001b[0m \u001b[1;33m==\u001b[0m \u001b[1;34m'__main__'\u001b[0m\u001b[1;33m)\u001b[0m\u001b[1;33m:\u001b[0m\u001b[1;33m\u001b[0m\u001b[0m\n\u001b[1;32m--> 202\u001b[1;33m     \u001b[0mmain\u001b[0m\u001b[1;33m(\u001b[0m\u001b[1;33m)\u001b[0m\u001b[1;33m\u001b[0m\u001b[0m\n\u001b[0m",
      "\u001b[1;32mC:\\Users\\laemmle\\Documents\\Microwave\\Bastelei\\DCF77\\TTF2BMH\\src\\ttf2bmh_digits_file.py\u001b[0m in \u001b[0;36mmain\u001b[1;34m()\u001b[0m\n\u001b[0;32m     52\u001b[0m     \u001b[0mTTF_FILES\u001b[0m \u001b[1;33m=\u001b[0m \u001b[1;33m[\u001b[0m\u001b[1;33m]\u001b[0m\u001b[1;33m\u001b[0m\u001b[0m\n\u001b[0;32m     53\u001b[0m     \u001b[0mlog_filename\u001b[0m \u001b[1;33m=\u001b[0m \u001b[0mttf_searchfolder\u001b[0m \u001b[1;33m+\u001b[0m \u001b[1;34m'ttf2bmh.log'\u001b[0m\u001b[1;33m\u001b[0m\u001b[0m\n\u001b[1;32m---> 54\u001b[1;33m     \u001b[0mlog_file\u001b[0m \u001b[1;33m=\u001b[0m \u001b[0mopen\u001b[0m\u001b[1;33m(\u001b[0m\u001b[0mlog_filename\u001b[0m\u001b[1;33m,\u001b[0m\u001b[1;34m'w+'\u001b[0m\u001b[1;33m)\u001b[0m\u001b[1;33m\u001b[0m\u001b[0m\n\u001b[0m\u001b[0;32m     55\u001b[0m     \u001b[0mlog_file\u001b[0m\u001b[1;33m.\u001b[0m\u001b[0mwrite\u001b[0m\u001b[1;33m(\u001b[0m\u001b[1;34m'TTF2BMH version 0.9 (c) JD Morise\\n'\u001b[0m\u001b[1;33m)\u001b[0m\u001b[1;33m\u001b[0m\u001b[0m\n\u001b[0;32m     56\u001b[0m     \u001b[0mlog_file\u001b[0m\u001b[1;33m.\u001b[0m\u001b[0mwrite\u001b[0m\u001b[1;33m(\u001b[0m\u001b[1;34m'====================================================================\\n'\u001b[0m\u001b[1;33m)\u001b[0m\u001b[1;33m\u001b[0m\u001b[0m\n",
      "\u001b[1;31mFileNotFoundError\u001b[0m: [Errno 2] No such file or directory: '.\\\\bmh_fonts\\\\fonts-master\\\\apache\\\\ttf2bmh.log'"
     ]
    }
   ],
   "source": [
    "%run ./ttf2bmh_digits_file.py"
   ]
  },
  {
   "cell_type": "code",
   "execution_count": null,
   "metadata": {
    "collapsed": true
   },
   "outputs": [],
   "source": []
  }
 ],
 "metadata": {
  "kernelspec": {
   "display_name": "Python 3",
   "language": "python",
   "name": "python3"
  },
  "language_info": {
   "codemirror_mode": {
    "name": "ipython",
    "version": 3
   },
   "file_extension": ".py",
   "mimetype": "text/x-python",
   "name": "python",
   "nbconvert_exporter": "python",
   "pygments_lexer": "ipython3",
   "version": "3.5.1"
  }
 },
 "nbformat": 4,
 "nbformat_minor": 0
}
